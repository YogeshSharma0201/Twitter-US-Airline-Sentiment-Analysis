{
 "cells": [
  {
   "cell_type": "code",
   "execution_count": 47,
   "metadata": {
    "collapsed": true
   },
   "outputs": [],
   "source": [
    "import nltk\n",
    "from sklearn.svm import SVC \n",
    "import numpy as np"
   ]
  },
  {
   "cell_type": "code",
   "execution_count": 2,
   "metadata": {
    "collapsed": true
   },
   "outputs": [],
   "source": [
    "import pandas as pd\n",
    "train = pd.read_csv('training.csv')\n",
    "test = pd.read_csv('test.csv')"
   ]
  },
  {
   "cell_type": "code",
   "execution_count": 35,
   "metadata": {},
   "outputs": [
    {
     "data": {
      "text/plain": [
       "0       @AmericanAir In car gng to DFW. Pulled over 1h...\n",
       "1       @AmericanAir after all, the plane didn’t land ...\n",
       "2       @SouthwestAir can't believe how many paying cu...\n",
       "3       @USAirways I can legitimately say that I would...\n",
       "4       @AmericanAir still no response from AA. great ...\n",
       "5       @united we have developers flying down tmrw mo...\n",
       "6                       @USAirways hello??? Anyone there?\n",
       "7       @USAirways @husainhaqqani Mr. Husain u shld pr...\n",
       "8       @USAirways not likely, flightaware says plane ...\n",
       "9       @AmericanAir they don't even give an option to...\n",
       "10      @united your announcement for pre boarding onl...\n",
       "11      @USAirways it is really embarrassing when aski...\n",
       "12      @SouthwestAir I will not have my passport in t...\n",
       "13      @AmericanAir this delayed bag was for my frien...\n",
       "14      @SouthwestAir Didn't see travel had to be comp...\n",
       "15      @USAirways awesome... Doors close in 2 minutes...\n",
       "16      @united I flew United last month and the exper...\n",
       "17      @JetBlue Accepting #Apple Pay - Mobile Enterpr...\n",
       "18      @united $55 cab ride to dfw from love got me m...\n",
       "19      @JetBlue ill call in the morning. too upset ri...\n",
       "20      @SouthwestAir @AARP #tfw1 Appreciate the tweet...\n",
       "21      @united what's the status of flight 1008 Bogot...\n",
       "22      @AmericanAir literally just stopped allowing p...\n",
       "23      @AmericanAir I really want to get home. Tonigh...\n",
       "24      @USAirways I've been on hold at the reservatio...\n",
       "25      @JetBlue Denver-Boston 2/10 flight 994  and Bo...\n",
       "26      @AmericanAir nothing to do with Mother Nature,...\n",
       "27      @USAirways you would rather a while plane get ...\n",
       "28      @JetBlue hi guys, do you have a general enquir...\n",
       "29      @united we finally just arrive to Bogota, good...\n",
       "                              ...                        \n",
       "3630                           @USAirways nope not yet...\n",
       "3631    @SouthwestAir So far so good! http://t.co/16c9...\n",
       "3632    @SouthwestAir @CBSsoxfan you get to hold? call...\n",
       "3633    @JetBlue Really!? That's good to hear! Thanks ...\n",
       "3634    @JetBlue trying to charge us $550 dollars cash...\n",
       "3635    @USAirways can u tell me if 5238 from clt to J...\n",
       "3636    @USAirways Your customer service is  non-exist...\n",
       "3637    @SouthwestAir Whoa. Thanks and that's what I w...\n",
       "3638    @United THANK U! Secured room for the night Th...\n",
       "3639    @AmericanAir I'm not sure what happened to my ...\n",
       "3640    @AmericanAir pretty bad at #DFW no updates two...\n",
       "3641    @USAirways Just contaced EYEWITNESS NEWS about...\n",
       "3642    @SouthwestAir thx. Make it right. Help Meagan ...\n",
       "3643    @USAirways I didn't Cancelled Flight my flight...\n",
       "3644    @united your \"Airserv\" contractors aren't wort...\n",
       "3645    @SouthwestAir @taylormdowns We share that valu...\n",
       "3646    @USAirways on hold now over 2 hrs on one phone...\n",
       "3647    @AmericanAir the flight I'm trying to change i...\n",
       "3648    @JetBlue the fact that #ChrisHasMadeUsBLUSH is...\n",
       "3649             @united Did somebody say flight upgrade?\n",
       "3650        @SouthwestAir how do I get my companion pass?\n",
       "3651    @USAirways tells me to talk to @AmericanAir ab...\n",
       "3652            @JetBlue you want me to talk to the wall?\n",
       "3653    @USAirways Now, the JFK Baggage Office has act...\n",
       "3654    @AmericanAir Least you could do would be to re...\n",
       "3655    @USAirways Been stuck for 40+ minutes due to l...\n",
       "3656    @USAirways 4 hours... 4 hours... FOUR HOURS.  ...\n",
       "3657    Nice RT @VirginAmerica: The man of steel might...\n",
       "3658    @AmericanAir Aww Thanks AA..DFW was on GMA up ...\n",
       "3659    @united the lounge tells us they have no pillo...\n",
       "Name: text, Length: 3660, dtype: object"
      ]
     },
     "execution_count": 35,
     "metadata": {},
     "output_type": "execute_result"
    }
   ],
   "source": [
    "train['text']\n",
    "test['text']"
   ]
  },
  {
   "cell_type": "code",
   "execution_count": 3,
   "metadata": {
    "collapsed": true
   },
   "outputs": [],
   "source": [
    "documents = []\n",
    "# for category in movie_reviews.categories():\n",
    "#     for fileid in movie_reviews.fileids(category):\n",
    "#         documents.append((movie_reviews.words(fileid), category))\n",
    "        \n",
    "for index, data in train.iterrows():\n",
    "    documents.append((nltk.word_tokenize(data['text']), data['airline_sentiment']))"
   ]
  },
  {
   "cell_type": "code",
   "execution_count": 4,
   "metadata": {
    "collapsed": true
   },
   "outputs": [],
   "source": [
    "documents_test = []\n",
    "for index, data in test.iterrows():\n",
    "    documents_test.append(nltk.word_tokenize(data['text']))"
   ]
  },
  {
   "cell_type": "code",
   "execution_count": 5,
   "metadata": {},
   "outputs": [
    {
     "data": {
      "text/plain": [
       "[(['@',\n",
       "   'AmericanAir',\n",
       "   'thanks',\n",
       "   'for',\n",
       "   'the',\n",
       "   'info',\n",
       "   'Is',\n",
       "   'there',\n",
       "   'a',\n",
       "   'number',\n",
       "   'I',\n",
       "   'can',\n",
       "   'call',\n",
       "   'to',\n",
       "   'speak',\n",
       "   'to',\n",
       "   'a',\n",
       "   'person',\n",
       "   '?',\n",
       "   'It',\n",
       "   \"'s\",\n",
       "   'going',\n",
       "   'to',\n",
       "   'take',\n",
       "   'an',\n",
       "   'hour',\n",
       "   'to',\n",
       "   'type',\n",
       "   'it',\n",
       "   'out'],\n",
       "  'positive'),\n",
       " (['@',\n",
       "   'USAirways',\n",
       "   'Stop',\n",
       "   'reposting',\n",
       "   'same',\n",
       "   'autoresponse',\n",
       "   'That',\n",
       "   'was',\n",
       "   'return',\n",
       "   'flight',\n",
       "   'home',\n",
       "   '#',\n",
       "   'imateacher',\n",
       "   '.',\n",
       "   'Couldnt',\n",
       "   'get',\n",
       "   'to',\n",
       "   'RSW',\n",
       "   '#',\n",
       "   'neptune',\n",
       "   '#',\n",
       "   'waivethefee',\n",
       "   '#',\n",
       "   'notmyfault'],\n",
       "  'negative'),\n",
       " (['@',\n",
       "   'AmericanAir',\n",
       "   'Would',\n",
       "   'love',\n",
       "   'to',\n",
       "   'DM',\n",
       "   'you',\n",
       "   ',',\n",
       "   'but',\n",
       "   'my',\n",
       "   'Twitter',\n",
       "   'app',\n",
       "   'says',\n",
       "   'you',\n",
       "   \"'re\",\n",
       "   'not',\n",
       "   'following',\n",
       "   'me',\n",
       "   'and',\n",
       "   'I',\n",
       "   'ca',\n",
       "   \"n't\",\n",
       "   '.'],\n",
       "  'negative'),\n",
       " (['@',\n",
       "   'AmericanAir',\n",
       "   'Oh',\n",
       "   'they',\n",
       "   'seem',\n",
       "   'to',\n",
       "   'have',\n",
       "   'reappeared',\n",
       "   'now',\n",
       "   'lol'],\n",
       "  'neutral'),\n",
       " (['@',\n",
       "   'USAirways',\n",
       "   'I',\n",
       "   'made',\n",
       "   'the',\n",
       "   'change',\n",
       "   'online',\n",
       "   ',',\n",
       "   'but',\n",
       "   'could',\n",
       "   \"n't\",\n",
       "   'check-in',\n",
       "   'online',\n",
       "   ',',\n",
       "   'so',\n",
       "   'had',\n",
       "   'to',\n",
       "   'call',\n",
       "   '(',\n",
       "   '3',\n",
       "   'hrs',\n",
       "   'on',\n",
       "   'hold',\n",
       "   'btw',\n",
       "   ')',\n",
       "   '.',\n",
       "   'Should',\n",
       "   \"n't\",\n",
       "   'have',\n",
       "   'been',\n",
       "   'charged',\n",
       "   '$',\n",
       "   '25'],\n",
       "  'negative')]"
      ]
     },
     "execution_count": 5,
     "metadata": {},
     "output_type": "execute_result"
    }
   ],
   "source": [
    "import random\n",
    "random.shuffle(documents)\n",
    "documents[0:5]"
   ]
  },
  {
   "cell_type": "code",
   "execution_count": 6,
   "metadata": {
    "collapsed": true
   },
   "outputs": [],
   "source": [
    "from nltk.stem import WordNetLemmatizer\n",
    "lemmatizer = WordNetLemmatizer()"
   ]
  },
  {
   "cell_type": "code",
   "execution_count": 7,
   "metadata": {
    "collapsed": true
   },
   "outputs": [],
   "source": [
    "from nltk.corpus import wordnet\n",
    "def get_simple_pos(tag):\n",
    "    \n",
    "    if tag.startswith('J'):\n",
    "        return wordnet.ADJ\n",
    "    elif tag.startswith('V'):\n",
    "        return wordnet.VERB\n",
    "    elif tag.startswith('N'):\n",
    "        return wordnet.NOUN\n",
    "    elif tag.startswith('R'):\n",
    "        return wordnet.ADV\n",
    "    else:\n",
    "        return wordnet.NOUN"
   ]
  },
  {
   "cell_type": "code",
   "execution_count": 11,
   "metadata": {},
   "outputs": [],
   "source": [
    "from nltk import pos_tag\n",
    "from nltk.corpus import stopwords\n",
    "import string\n",
    "stops = set(stopwords.words('english'))\n",
    "punctuations = list(string.punctuation)\n",
    "stops.update(punctuations)"
   ]
  },
  {
   "cell_type": "code",
   "execution_count": 9,
   "metadata": {
    "collapsed": true
   },
   "outputs": [],
   "source": [
    "def clean_review(words):\n",
    "    output_words = []\n",
    "    for w in words:\n",
    "        if w.lower() not in stops:\n",
    "            pos = pos_tag([w])\n",
    "            clean_word = lemmatizer.lemmatize(w, pos = get_simple_pos(pos[0][1]))\n",
    "            output_words.append(clean_word.lower())\n",
    "    return output_words"
   ]
  },
  {
   "cell_type": "code",
   "execution_count": 12,
   "metadata": {},
   "outputs": [],
   "source": [
    "documents = [(clean_review(document), category) for document, category in documents]"
   ]
  },
  {
   "cell_type": "code",
   "execution_count": 13,
   "metadata": {
    "collapsed": true
   },
   "outputs": [],
   "source": [
    "documents_test = [clean_review(document) for document in documents_test]"
   ]
  },
  {
   "cell_type": "code",
   "execution_count": 14,
   "metadata": {
    "collapsed": true
   },
   "outputs": [],
   "source": [
    "from sklearn.feature_extraction.text import CountVectorizer"
   ]
  },
  {
   "cell_type": "code",
   "execution_count": 15,
   "metadata": {
    "collapsed": true
   },
   "outputs": [],
   "source": [
    "categories = [category for document, category in documents]\n",
    "text_documents = [\" \".join(document) for document, category in documents]\n",
    "text_documents_test = [\" \".join(document) for document in documents_test]"
   ]
  },
  {
   "cell_type": "code",
   "execution_count": 21,
   "metadata": {
    "collapsed": true
   },
   "outputs": [],
   "source": [
    "# from sklearn.model_selection import train_test_split\n",
    "# x_train, x_test, y_train, y_test = train_test_split(text_documents, categories)"
   ]
  },
  {
   "cell_type": "code",
   "execution_count": 78,
   "metadata": {},
   "outputs": [
    {
     "data": {
      "text/plain": [
       "matrix([[0, 0, 0, ..., 0, 0, 0],\n",
       "        [0, 0, 0, ..., 0, 0, 0],\n",
       "        [0, 0, 0, ..., 0, 0, 0],\n",
       "        ..., \n",
       "        [0, 0, 0, ..., 0, 0, 0],\n",
       "        [0, 0, 0, ..., 0, 0, 0],\n",
       "        [0, 0, 0, ..., 0, 0, 0]], dtype=int64)"
      ]
     },
     "execution_count": 78,
     "metadata": {},
     "output_type": "execute_result"
    }
   ],
   "source": [
    "count_vec = CountVectorizer(max_features = 3000, ngram_range=(1,3))\n",
    "x_train_features = count_vec.fit_transform(text_documents)\n",
    "x_train_features.todense()"
   ]
  },
  {
   "cell_type": "code",
   "execution_count": 80,
   "metadata": {},
   "outputs": [
    {
     "data": {
      "text/plain": [
       "<10980x3000 sparse matrix of type '<class 'numpy.int64'>'\n",
       "\twith 115681 stored elements in Compressed Sparse Row format>"
      ]
     },
     "execution_count": 80,
     "metadata": {},
     "output_type": "execute_result"
    }
   ],
   "source": [
    "x_train_features"
   ]
  },
  {
   "cell_type": "code",
   "execution_count": 81,
   "metadata": {
    "collapsed": true
   },
   "outputs": [],
   "source": [
    "text_documents_test_features = count_vec.transform(text_documents_test)"
   ]
  },
  {
   "cell_type": "code",
   "execution_count": 31,
   "metadata": {
    "collapsed": true
   },
   "outputs": [],
   "source": [
    "# x_test_features = count_vec.transform(x_test)"
   ]
  },
  {
   "cell_type": "code",
   "execution_count": 54,
   "metadata": {},
   "outputs": [
    {
     "data": {
      "text/plain": [
       "<3660x3000 sparse matrix of type '<class 'numpy.int64'>'\n",
       "\twith 37307 stored elements in Compressed Sparse Row format>"
      ]
     },
     "execution_count": 54,
     "metadata": {},
     "output_type": "execute_result"
    }
   ],
   "source": [
    "text_documents_test_features"
   ]
  },
  {
   "cell_type": "code",
   "execution_count": 82,
   "metadata": {
    "collapsed": true
   },
   "outputs": [],
   "source": [
    "from sklearn.svm import SVC\n",
    "from sklearn.model_selection import GridSearchCV"
   ]
  },
  {
   "cell_type": "code",
   "execution_count": null,
   "metadata": {},
   "outputs": [],
   "source": [
    "svc = SVC()\n",
    "parameters = {'C':[1, 2, 3], 'gamma':[0.5, 0.1]}\n",
    "# clf = GridSearchCV(svc, parameters)\n",
    "clf = SVC(C=2, gamma=0.1)\n",
    "clf.fit(x_train_features, categories)"
   ]
  },
  {
   "cell_type": "code",
   "execution_count": 75,
   "metadata": {},
   "outputs": [
    {
     "data": {
      "text/plain": [
       "{'C': 2, 'gamma': 0.1}"
      ]
     },
     "execution_count": 75,
     "metadata": {},
     "output_type": "execute_result"
    }
   ],
   "source": [
    "clf.best_params_"
   ]
  },
  {
   "cell_type": "code",
   "execution_count": 71,
   "metadata": {},
   "outputs": [
    {
     "data": {
      "text/plain": [
       "<3660x3000 sparse matrix of type '<class 'numpy.int64'>'\n",
       "\twith 37307 stored elements in Compressed Sparse Row format>"
      ]
     },
     "execution_count": 71,
     "metadata": {},
     "output_type": "execute_result"
    }
   ],
   "source": [
    "text_documents_test_features"
   ]
  },
  {
   "cell_type": "code",
   "execution_count": 76,
   "metadata": {
    "collapsed": true
   },
   "outputs": [],
   "source": [
    "Y_test = clf.predict(text_documents_test_features)"
   ]
  },
  {
   "cell_type": "code",
   "execution_count": 67,
   "metadata": {},
   "outputs": [
    {
     "data": {
      "text/plain": [
       "array(['negative', 'neutral', 'negative', ..., 'neutral', 'positive',\n",
       "       'negative'], \n",
       "      dtype='<U8')"
      ]
     },
     "execution_count": 67,
     "metadata": {},
     "output_type": "execute_result"
    }
   ],
   "source": [
    "Y_test"
   ]
  },
  {
   "cell_type": "code",
   "execution_count": 77,
   "metadata": {},
   "outputs": [],
   "source": [
    "np.savetxt('pred.txt', Y_test, delimiter=',', fmt=\"%s\")"
   ]
  }
 ],
 "metadata": {
  "kernelspec": {
   "display_name": "Python 3",
   "language": "python",
   "name": "python3"
  },
  "language_info": {
   "codemirror_mode": {
    "name": "ipython",
    "version": 3
   },
   "file_extension": ".py",
   "mimetype": "text/x-python",
   "name": "python",
   "nbconvert_exporter": "python",
   "pygments_lexer": "ipython3",
   "version": "3.6.1"
  }
 },
 "nbformat": 4,
 "nbformat_minor": 2
}
